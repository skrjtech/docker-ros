{
 "cells": [
  {
   "cell_type": "code",
   "execution_count": 1,
   "id": "df09b8b7-4b4c-48e4-861f-c7e2ab90c38c",
   "metadata": {},
   "outputs": [],
   "source": [
    "import copy\n",
    "import rospy\n",
    "import geometry_msgs\n",
    "import moveit_commander"
   ]
  },
  {
   "cell_type": "code",
   "execution_count": 2,
   "id": "b930ca2b-fbb1-456a-a4c1-bae6acec4d0e",
   "metadata": {},
   "outputs": [],
   "source": [
    "rospy.init_node('message', anonymous=True)"
   ]
  },
  {
   "cell_type": "code",
   "execution_count": 3,
   "id": "fdb1c68c-709c-4036-8a2f-12f215ea9293",
   "metadata": {},
   "outputs": [
    {
     "name": "stderr",
     "output_type": "stream",
     "text": [
      "\u001b[33m[ WARN] [1674895618.828867815]: Kinematics solver doesn't support #attempts anymore, but only a timeout.\n",
      "Please remove the parameter '/robot_description_kinematics/manipulator/kinematics_solver_attempts' from your configuration.\u001b[0m\n"
     ]
    }
   ],
   "source": [
    "Robot = moveit_commander.RobotCommander()"
   ]
  },
  {
   "cell_type": "code",
   "execution_count": 4,
   "id": "4c4ffa05-4c45-4abf-9566-c4d6b33412af",
   "metadata": {},
   "outputs": [
    {
     "data": {
      "text/plain": [
       "['manipulator', 'tool']"
      ]
     },
     "execution_count": 4,
     "metadata": {},
     "output_type": "execute_result"
    }
   ],
   "source": [
    "Robot.get_group_names()"
   ]
  },
  {
   "cell_type": "code",
   "execution_count": 6,
   "id": "76454b9d-244a-455f-ad30-4ff011dbeada",
   "metadata": {},
   "outputs": [],
   "source": [
    "Manipulator = moveit_commander.MoveGroupCommander(Robot.get_group_names()[0])"
   ]
  },
  {
   "cell_type": "code",
   "execution_count": 7,
   "id": "764f97bb-23e5-4383-92c1-c662dd76bb8e",
   "metadata": {},
   "outputs": [
    {
     "data": {
      "text/plain": [
       "True"
      ]
     },
     "execution_count": 7,
     "metadata": {},
     "output_type": "execute_result"
    }
   ],
   "source": [
    "JHOME = [0.0, 7.669904334761668e-06, -1.5707907676696777, 0.0, -1.5707603693008423, -6.447359919548035e-05]\n",
    "Manipulator.set_max_velocity_scaling_factor(1)\n",
    "Manipulator.set_joint_value_target(JHOME)\n",
    "Manipulator.go()"
   ]
  },
  {
   "cell_type": "code",
   "execution_count": 8,
   "id": "ba3e389b-b059-4a76-aff2-1a91a281dee6",
   "metadata": {},
   "outputs": [
    {
     "data": {
      "text/plain": [
       "True"
      ]
     },
     "execution_count": 8,
     "metadata": {},
     "output_type": "execute_result"
    }
   ],
   "source": [
    "JP11 = [0.24068158864974976, 0.412740558385849, -1.9809503555297852, 0.00015339808305725455, -0.7486186027526855, -0.2410619705915451]\n",
    "Manipulator.set_max_velocity_scaling_factor(1)\n",
    "Manipulator.set_joint_value_target(JP11)\n",
    "Manipulator.go()"
   ]
  },
  {
   "cell_type": "code",
   "execution_count": 9,
   "id": "816850c0-8acd-42d0-a60b-f24a99da6c15",
   "metadata": {},
   "outputs": [],
   "source": [
    "pose = Manipulator.get_current_pose().pose\n",
    "diff = (63.5 / 1000)\n",
    "Point = copy.deepcopy(pose)\n",
    "ROW = 4\n",
    "COL = 2\n",
    "for i in range(ROW):\n",
    "    _Point = copy.deepcopy(Point) # P11 座標値の固定\n",
    "    _Point.position.x -= diff * i # 固定座標から目標位置にシフト\n",
    "    Manipulator.set_pose_target(_Point)\n",
    "    Manipulator.go()\n",
    "    for j in range(COL):\n",
    "        _Point.position.y += diff\n",
    "        Manipulator.set_pose_target(_Point)\n",
    "        Manipulator.go()\n",
    "        \n",
    "        # TPReturn Top\n",
    "        JTPReturnTop = [-0.9731382727622986, 0.13133177161216736, -1.924088954925537, 0.4127635657787323, -1.3977681398391724, 0.8369989395141602]\n",
    "        Manipulator.set_joint_value_target(JTPReturnTop)\n",
    "        Manipulator.go()\n",
    "        \n",
    "        # TPReturn Set\n",
    "        JTPReturnSet = [-1.0908042192459106, 0.14635711908340454, -2.064495086669922, 0.46932145953178406, -1.214529275894165, 0.860701322555542]\n",
    "        Manipulator.set_joint_value_target(JTPReturnSet)\n",
    "        Manipulator.go()\n",
    "        \n",
    "    # Solenoid"
   ]
  },
  {
   "cell_type": "code",
   "execution_count": 10,
   "id": "67a938c7-9daf-4878-a48b-b533107c1d89",
   "metadata": {},
   "outputs": [
    {
     "data": {
      "text/plain": [
       "True"
      ]
     },
     "execution_count": 10,
     "metadata": {},
     "output_type": "execute_result"
    }
   ],
   "source": [
    "# Home Back\n",
    "JHOME = [0.0, 7.669904334761668e-06, -1.5707907676696777, 0.0, -1.5707603693008423, -6.447359919548035e-05]\n",
    "Manipulator.set_joint_value_target(JHOME)\n",
    "Manipulator.go()"
   ]
  },
  {
   "cell_type": "code",
   "execution_count": 11,
   "id": "3eb57797-57d9-4874-9351-6053733dca94",
   "metadata": {},
   "outputs": [],
   "source": [
    "for i in range(2):\n",
    "    \n",
    "    # TPreturnUp\n",
    "    JTPReturnUp = [-0.4566469192504883, 1.0650966167449951, -1.1335583925247192, 0.2479526698589325, -1.4823408126831055, 0.365468293428421]\n",
    "    Manipulator.set_joint_value_target(JTPReturnUp)\n",
    "    Manipulator.go()\n",
    "    \n",
    "    # TPreturnPick\n",
    "    JTPReturnPick = [-0.4658316373825073, 1.0731346607208252, -1.180587649345398, 0.254334032535553, -1.4272253513336182, 0.35890069603919983]\n",
    "    Manipulator.set_joint_value_target(JTPReturnPick)\n",
    "    Manipulator.go()\n",
    "\n",
    "    # TPreturnUp\n",
    "    JTPReturnUp = [-0.4566469192504883, 1.0650966167449951, -1.1335583925247192, 0.2479526698589325, -1.4823408126831055, 0.365468293428421]\n",
    "    Manipulator.set_joint_value_target(JTPReturnUp)\n",
    "    Manipulator.go()\n",
    "    \n",
    "    # Solenoid\n",
    "\n",
    "    # JTPColor Side\n",
    "    JTPColorSide = [1.0032809972763062, 0.43176960945129395, -2.173457622528076, -0.032566413283348083, -0.546252965927124, -0.9755496978759766]\n",
    "    Manipulator.set_joint_value_target(JTPColorSide)\n",
    "    Manipulator.go()\n",
    "    \n",
    "    # JTPColor Top\n",
    "    JTPColorTop = [1.0879279375076294, 0.5259100198745728, -2.003204345703125, -0.0304495207965374, -0.6207948327064514, -1.0631352663040161]\n",
    "    Manipulator.set_joint_value_target(JTPColorTop)\n",
    "    Manipulator.go()\n",
    "    \n",
    "    # JTPColor Hando Open\n",
    "    JTPColorHandoOpen = [1.0878416299819946, 0.5538361072540283, -2.0045087337493896, -0.03204486146569252, -0.5915054082870483, -1.0615524053573608]\n",
    "    Manipulator.set_joint_value_target(JTPColorHandoOpen)\n",
    "    Manipulator.go()\n",
    "    \n",
    "    # Get Color \n",
    "    # Color Switch\n",
    "    \n",
    "    # JTPColor Pick\n",
    "    JTPColorPick = [1.0881389379501343, 0.5708402991294861, -2.003924608230591, -0.032873209565877914, -0.5750750303268433, -1.0608978271484375]\n",
    "    Manipulator.set_joint_value_target(JTPColorPick)\n",
    "    Manipulator.go()\n",
    "    \n",
    "    # JTPColor Pick Up\n",
    "    JTPColorPickUp = [1.0866624116897583, 0.4886265993118286, -2.003389358520508, -0.029222335666418076, -0.6576583385467529, -1.0638341903686523]\n",
    "    Manipulator.set_joint_value_target(JTPColorPickUp)\n",
    "    Manipulator.go()\n",
    "    \n",
    "    # Red\n",
    "    # JTPRed Top\n",
    "    JTPRedTop = [0.8765933513641357, 0.7078784704208374, -1.7400219440460205, 0.8041894435882568, -0.26983681321144104, -1.1156728267669678]\n",
    "    Manipulator.set_joint_value_target(JTPRedTop)\n",
    "    Manipulator.go()\n",
    "    \n",
    "    \n",
    "    # Yellow \n",
    "    # JTPYellow Top\n",
    "    JTPYellowTop = [1.0325320959091187, 0.5620352625846863, -2.1590402126312256, 1.7803841829299927, -0.26993268728256226, -2.2483088970184326]\n",
    "    Manipulator.set_joint_value_target(JTPYellowTop)\n",
    "    Manipulator.go()\n",
    "    \n",
    "    # JTPYellow Drop\n",
    "    JTPYellowDrop = [1.0325320959091187, 0.5620352625846863, -2.1590402126312256, 1.7803841829299927, -0.26993268728256226, -2.2483088970184326]\n",
    "    Manipulator.set_joint_value_target(JTPYellowDrop)\n",
    "    Manipulator.go()\n",
    "    \n",
    "    # JTPYellow Pick\n",
    "    JTPYellowPick = [0.7437122464179993, 0.5595042109489441, -2.1023929119110107, 1.5426018238067627, -0.13103552162647247, -1.8133699893951416]\n",
    "    Manipulator.set_joint_value_target(JTPYellowPick)\n",
    "    Manipulator.go()\n",
    "    \n",
    "    "
   ]
  },
  {
   "cell_type": "code",
   "execution_count": 99,
   "id": "7a222ddc-4634-42c4-b4f8-2b2a8c72767b",
   "metadata": {},
   "outputs": [
    {
     "data": {
      "text/plain": [
       "True"
      ]
     },
     "execution_count": 99,
     "metadata": {},
     "output_type": "execute_result"
    }
   ],
   "source": [
    "JTPRedTop = [0.8765933513641357, 0.7078784704208374, -1.7400219440460205, 0.8041894435882568, -0.26983681321144104, -1.1156728267669678]\n",
    "Manipulator.set_joint_value_target(JTPRedTop)\n",
    "Manipulator.go()"
   ]
  },
  {
   "cell_type": "code",
   "execution_count": 1,
   "id": "31b0b982-852a-4547-94b8-a09aabf1ec84",
   "metadata": {},
   "outputs": [],
   "source": [
    "import rs007n_commander"
   ]
  },
  {
   "cell_type": "code",
   "execution_count": 2,
   "id": "7a36c54c-689f-44e9-be65-2119287b4e01",
   "metadata": {},
   "outputs": [],
   "source": [
    "driver = rs007n_commander.DriverCommander()"
   ]
  },
  {
   "cell_type": "code",
   "execution_count": 3,
   "id": "29144e4a-05be-46c3-94ff-5bfc5fa46db3",
   "metadata": {},
   "outputs": [
    {
     "name": "stderr",
     "output_type": "stream",
     "text": [
      "\u001b[33m[ WARN] [1675052514.838641574]: Kinematics solver doesn't support #attempts anymore, but only a timeout.\n",
      "Please remove the parameter '/robot_description_kinematics/manipulator/kinematics_solver_attempts' from your configuration.\u001b[0m\n"
     ]
    }
   ],
   "source": [
    "rs007n = rs007n_commander.RS007NCommander()"
   ]
  },
  {
   "cell_type": "code",
   "execution_count": 4,
   "id": "688ec34b-3f5a-43b0-9dd5-e997e3ac0862",
   "metadata": {},
   "outputs": [
    {
     "data": {
      "text/plain": [
       "False"
      ]
     },
     "execution_count": 4,
     "metadata": {},
     "output_type": "execute_result"
    }
   ],
   "source": [
    "driver.DriverRestart()"
   ]
  },
  {
   "cell_type": "code",
   "execution_count": 5,
   "id": "3d391fb7-a069-44dd-a40b-d4d7ca653978",
   "metadata": {},
   "outputs": [
    {
     "data": {
      "text/plain": [
       "True"
      ]
     },
     "execution_count": 5,
     "metadata": {},
     "output_type": "execute_result"
    }
   ],
   "source": [
    "driver.SolenoidOn()"
   ]
  },
  {
   "cell_type": "code",
   "execution_count": 6,
   "id": "1e3bb187-7b97-414a-8d3d-b9c698a0da79",
   "metadata": {},
   "outputs": [],
   "source": [
    "from rs007n_commander.Points import PosisionsData"
   ]
  },
  {
   "cell_type": "code",
   "execution_count": 7,
   "id": "c5136d4e-1d24-42f0-a1fb-b11531dd5061",
   "metadata": {},
   "outputs": [],
   "source": [
    "def Seikei(L):\n",
    "    string = '['\n",
    "    for i in L:\n",
    "        string += f\"{float(i):.16f}, \"\n",
    "    string = string[:-2] + \"]\"\n",
    "    return string"
   ]
  },
  {
   "cell_type": "code",
   "execution_count": 24,
   "id": "06b411e4-dc05-4ee5-84ee-ac3074cb0e0d",
   "metadata": {},
   "outputs": [],
   "source": [
    "rs007n.TPReturnSet()\n",
    "rs007n.TPReturnPick()"
   ]
  },
  {
   "cell_type": "code",
   "execution_count": 25,
   "id": "5d6e0ae0-c275-4ec3-b4d3-9be596e57bef",
   "metadata": {},
   "outputs": [],
   "source": [
    "rs007n.TPColorSet()"
   ]
  },
  {
   "cell_type": "code",
   "execution_count": 26,
   "id": "04bc6be5-c338-4be8-bc81-114c506b4414",
   "metadata": {},
   "outputs": [],
   "source": [
    "rs007n.TPBoxRedSet()\n",
    "rs007n.TPBoxRedPick()"
   ]
  },
  {
   "cell_type": "code",
   "execution_count": 27,
   "id": "067b68c1-08ac-4b3f-9a59-c5c1464fbbbf",
   "metadata": {},
   "outputs": [],
   "source": [
    "rs007n.TPBoxYellowSet()\n",
    "rs007n.TPBoxYellowPick()"
   ]
  },
  {
   "cell_type": "code",
   "execution_count": 28,
   "id": "9a195534-5f10-4ca8-ae19-1a44ecd77f93",
   "metadata": {},
   "outputs": [],
   "source": [
    "rs007n.TPBoxBlueSet()\n",
    "rs007n.TPBoxBluePick()"
   ]
  },
  {
   "cell_type": "code",
   "execution_count": 29,
   "id": "b0a3ccba-a62f-4cfd-95b6-8133880e6de7",
   "metadata": {},
   "outputs": [],
   "source": [
    "rs007n.TPBoxAlmSet()\n",
    "rs007n.TPBoxAlmPick()"
   ]
  },
  {
   "cell_type": "code",
   "execution_count": 8,
   "id": "9b08b94c-3376-4af6-9bcb-a12c211c19a2",
   "metadata": {},
   "outputs": [],
   "source": [
    "rs007n.P11Set()"
   ]
  },
  {
   "cell_type": "code",
   "execution_count": 17,
   "id": "ad630f03-f785-4675-995f-75ec5df6a29c",
   "metadata": {},
   "outputs": [
    {
     "data": {
      "text/plain": [
       "True"
      ]
     },
     "execution_count": 17,
     "metadata": {},
     "output_type": "execute_result"
    }
   ],
   "source": [
    "pose = rs007n.get_current_pose().pose\n",
    "pose = rs007n.PositionShift(pose, 0, 0, -50 / 1000)\n",
    "rs007n.set_pose_target(pose)\n",
    "rs007n.go()"
   ]
  },
  {
   "cell_type": "code",
   "execution_count": 18,
   "id": "939f39f5-3f26-4e6f-a467-af979f04c748",
   "metadata": {},
   "outputs": [
    {
     "data": {
      "text/plain": [
       "True"
      ]
     },
     "execution_count": 18,
     "metadata": {},
     "output_type": "execute_result"
    }
   ],
   "source": [
    "driver.HandCloses()"
   ]
  },
  {
   "cell_type": "code",
   "execution_count": null,
   "id": "28c64c1c-6251-4949-b4b1-9c4a56fa620f",
   "metadata": {},
   "outputs": [],
   "source": []
  }
 ],
 "metadata": {
  "kernelspec": {
   "display_name": "Python 3 (ipykernel)",
   "language": "python",
   "name": "python3"
  },
  "language_info": {
   "codemirror_mode": {
    "name": "ipython",
    "version": 3
   },
   "file_extension": ".py",
   "mimetype": "text/x-python",
   "name": "python",
   "nbconvert_exporter": "python",
   "pygments_lexer": "ipython3",
   "version": "3.8.10"
  }
 },
 "nbformat": 4,
 "nbformat_minor": 5
}
