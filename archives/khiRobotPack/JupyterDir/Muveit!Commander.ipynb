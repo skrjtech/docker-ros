{
 "cells": [
  {
   "cell_type": "code",
   "execution_count": 1,
   "id": "7667bb40-88a7-4dec-9b1e-39d2c681c4ca",
   "metadata": {},
   "outputs": [],
   "source": [
    "import rospy\n",
    "import moveit_commander\n",
    "from geometry_msgs.msg import Pose\n",
    "from tf.transformations import euler_from_quaternion, quaternion_from_euler"
   ]
  },
  {
   "cell_type": "markdown",
   "id": "1b35178a-4f61-4c79-a6b0-9beb6b108716",
   "metadata": {},
   "source": [
    "## ノードの初期化"
   ]
  },
  {
   "cell_type": "code",
   "execution_count": 2,
   "id": "598d09d4-cccf-4dc7-8bfe-ebe35d462d78",
   "metadata": {},
   "outputs": [],
   "source": [
    "rospy.init_node(\"robot_command_init\")"
   ]
  },
  {
   "cell_type": "markdown",
   "id": "ffcf91f2-01d6-402b-9a3f-e6ec058b6466",
   "metadata": {},
   "source": [
    "## ロボット情報の取得"
   ]
  },
  {
   "cell_type": "code",
   "execution_count": 3,
   "id": "3431db05-6529-4e6b-ac2e-a3abf4f2a1a6",
   "metadata": {},
   "outputs": [
    {
     "name": "stderr",
     "output_type": "stream",
     "text": [
      "\u001b[33m[ WARN] [1675367601.964468443, 1982.493000000]: Kinematics solver doesn't support #attempts anymore, but only a timeout.\n",
      "Please remove the parameter '/robot_description_kinematics/manipulator/kinematics_solver_attempts' from your configuration.\u001b[0m\n"
     ]
    }
   ],
   "source": [
    "robot = moveit_commander.RobotCommander()"
   ]
  },
  {
   "cell_type": "code",
   "execution_count": 4,
   "id": "96ee3933-94a9-4bac-b70f-470692dca13d",
   "metadata": {},
   "outputs": [
    {
     "data": {
      "text/plain": [
       "['manipulator', 'tool']"
      ]
     },
     "execution_count": 4,
     "metadata": {},
     "output_type": "execute_result"
    }
   ],
   "source": [
    "robot.get_group_names()"
   ]
  },
  {
   "cell_type": "markdown",
   "id": "7e0e38e9-9c0c-4850-8713-a7d7144f6c1d",
   "metadata": {},
   "source": [
    "## 制御したいリンクの設定"
   ]
  },
  {
   "cell_type": "code",
   "execution_count": 5,
   "id": "dfa1fadf-74cf-43a7-92ee-e1df023938ac",
   "metadata": {},
   "outputs": [],
   "source": [
    "manipulator = moveit_commander.MoveGroupCommander('manipulator')\n",
    "tool = moveit_commander.MoveGroupCommander('tool')"
   ]
  },
  {
   "cell_type": "markdown",
   "id": "10cca75e-5cec-4b44-b311-caef12ad11a2",
   "metadata": {},
   "source": [
    "## 現在の関節情報の取得"
   ]
  },
  {
   "cell_type": "code",
   "execution_count": 6,
   "id": "1086f467-d5c9-49e1-bb12-9e917f353e7f",
   "metadata": {},
   "outputs": [
    {
     "data": {
      "text/plain": [
       "[2.2960055378186084,\n",
       " 2.3330958660959276,\n",
       " 2.072126889664773,\n",
       " -0.3920130305751073,\n",
       " -1.030044963443288,\n",
       " 2.1695561732018978]"
      ]
     },
     "execution_count": 6,
     "metadata": {},
     "output_type": "execute_result"
    }
   ],
   "source": [
    "manipulator.get_current_joint_values()"
   ]
  },
  {
   "cell_type": "code",
   "execution_count": 7,
   "id": "2fd63afd-cdf7-4ab4-9c14-6e5c807c41e5",
   "metadata": {},
   "outputs": [
    {
     "data": {
      "text/plain": [
       "[2.1695561732018995]"
      ]
     },
     "execution_count": 7,
     "metadata": {},
     "output_type": "execute_result"
    }
   ],
   "source": [
    "tool.get_current_joint_values()"
   ]
  },
  {
   "cell_type": "markdown",
   "id": "90d13c25-576c-443c-80a1-c70166329549",
   "metadata": {},
   "source": [
    "## 現在のXYZ座標と姿勢の取得"
   ]
  },
  {
   "cell_type": "code",
   "execution_count": 8,
   "id": "24018e93-cfb8-488a-97ee-5c19baa99fb3",
   "metadata": {},
   "outputs": [
    {
     "data": {
      "text/plain": [
       "header: \n",
       "  seq: 0\n",
       "  stamp: \n",
       "    secs: 1983\n",
       "    nsecs: 872000000\n",
       "  frame_id: \"world\"\n",
       "pose: \n",
       "  position: \n",
       "    x: 0.3000418414346732\n",
       "    y: -0.3000738148722561\n",
       "    z: 0.4999927557576372\n",
       "  orientation: \n",
       "    x: 0.4203412845125747\n",
       "    y: 0.4205352628005871\n",
       "    z: -0.22967417696223735\n",
       "    w: 0.7705277864634595"
      ]
     },
     "execution_count": 8,
     "metadata": {},
     "output_type": "execute_result"
    }
   ],
   "source": [
    "manipulator.get_current_pose()"
   ]
  },
  {
   "cell_type": "code",
   "execution_count": 9,
   "id": "428b2e3c-b52c-4283-8fc0-718085b6de69",
   "metadata": {},
   "outputs": [
    {
     "data": {
      "text/plain": [
       "header: \n",
       "  seq: 0\n",
       "  stamp: \n",
       "    secs: 1983\n",
       "    nsecs: 892000000\n",
       "  frame_id: \"world\"\n",
       "pose: \n",
       "  position: \n",
       "    x: 0.3000418414346727\n",
       "    y: -0.30007381487225565\n",
       "    z: 0.4999927557576374\n",
       "  orientation: \n",
       "    x: 0.42034128451257396\n",
       "    y: 0.4205352628005869\n",
       "    z: -0.22967417696223758\n",
       "    w: 0.77052778646346"
      ]
     },
     "execution_count": 9,
     "metadata": {},
     "output_type": "execute_result"
    }
   ],
   "source": [
    "tool.get_current_pose()"
   ]
  },
  {
   "cell_type": "markdown",
   "id": "d54d98fc-1e2b-406c-ba73-012637a1e1b1",
   "metadata": {},
   "source": [
    "## ホームに移動"
   ]
  },
  {
   "cell_type": "code",
   "execution_count": 10,
   "id": "9803d620-0c2c-4333-9be6-2e47a9ca1165",
   "metadata": {},
   "outputs": [
    {
     "data": {
      "text/plain": [
       "True"
      ]
     },
     "execution_count": 10,
     "metadata": {},
     "output_type": "execute_result"
    }
   ],
   "source": [
    "Home = [0.0, 7.669904334761668e-06, -1.5707907676696777, 0.0, -1.5707603693008423, -6.447359919548035e-05]\n",
    "manipulator.set_joint_value_target(Home)\n",
    "manipulator.go()"
   ]
  },
  {
   "cell_type": "markdown",
   "id": "67b0acca-d7ff-4ff6-92ce-adfbf17eda4b",
   "metadata": {},
   "source": [
    "## 座標移動"
   ]
  },
  {
   "cell_type": "code",
   "execution_count": 11,
   "id": "9f87bf71-0165-4a30-b73b-6ad2056f633a",
   "metadata": {},
   "outputs": [],
   "source": [
    "getPose = manipulator.get_current_pose().pose\n",
    "getPose.position.x += (100 / 1000) # X方向に100mm 移動\n",
    "getPose.position.y += (100 / 1000) # Y方向に100mm 移動\n",
    "getPose.position.z += (100 / 1000) # Z方向に100mm 移動"
   ]
  },
  {
   "cell_type": "code",
   "execution_count": 12,
   "id": "28ee9c05-db54-4dc5-9624-412bcb53a5fc",
   "metadata": {},
   "outputs": [
    {
     "data": {
      "text/plain": [
       "True"
      ]
     },
     "execution_count": 12,
     "metadata": {},
     "output_type": "execute_result"
    }
   ],
   "source": [
    "manipulator.set_pose_target(getPose)\n",
    "manipulator.go()"
   ]
  },
  {
   "cell_type": "markdown",
   "id": "39df9bb8-c32e-451d-86f1-79178fc5f320",
   "metadata": {},
   "source": [
    "## 手先の位置を指定"
   ]
  },
  {
   "cell_type": "code",
   "execution_count": 13,
   "id": "379296cf-60b2-479f-a289-eaa41be29e63",
   "metadata": {},
   "outputs": [
    {
     "data": {
      "text/plain": [
       "True"
      ]
     },
     "execution_count": 13,
     "metadata": {},
     "output_type": "execute_result"
    }
   ],
   "source": [
    "manipulator.set_position_target([0.1, 0.5, 0.1])\n",
    "manipulator.go()"
   ]
  },
  {
   "cell_type": "markdown",
   "id": "221a22bf-9041-47dc-8a13-a433db0013c0",
   "metadata": {},
   "source": [
    "## 手先の姿勢を指定"
   ]
  },
  {
   "cell_type": "code",
   "execution_count": 14,
   "id": "98c19629-cbdd-4ed2-b4a4-391a03efb618",
   "metadata": {},
   "outputs": [
    {
     "data": {
      "text/plain": [
       "True"
      ]
     },
     "execution_count": 14,
     "metadata": {},
     "output_type": "execute_result"
    }
   ],
   "source": [
    "manipulator.set_rpy_target( [ 0.0, -2.36, 0.0 ] )\n",
    "manipulator.go()"
   ]
  },
  {
   "cell_type": "markdown",
   "id": "d1bbaa9c-767b-49c4-be27-aa42a75e7944",
   "metadata": {},
   "source": [
    "## 手先の位置と姿勢を指定"
   ]
  },
  {
   "cell_type": "code",
   "execution_count": 15,
   "id": "a4364ed6-b07c-41a5-92fa-4522a7b47e69",
   "metadata": {},
   "outputs": [
    {
     "data": {
      "text/plain": [
       "True"
      ]
     },
     "execution_count": 15,
     "metadata": {},
     "output_type": "execute_result"
    }
   ],
   "source": [
    "manipulator.set_pose_target( [ 0.1, -0.1, 0.1, 0, -1.57, 0 ] )\n",
    "manipulator.go()"
   ]
  },
  {
   "cell_type": "markdown",
   "id": "cbc6b338-963f-440d-a760-2e8a7afe95ea",
   "metadata": {},
   "source": [
    "## 位置・姿勢を指定"
   ]
  },
  {
   "cell_type": "code",
   "execution_count": 16,
   "id": "558e0742-2149-401c-aa17-2a8f32629900",
   "metadata": {},
   "outputs": [
    {
     "data": {
      "text/plain": [
       "True"
      ]
     },
     "execution_count": 16,
     "metadata": {},
     "output_type": "execute_result"
    }
   ],
   "source": [
    "manipulator.set_pose_target( [ 0.1, -0.1, 0.2, 0, -3.14, 0 ] )\n",
    "manipulator.go()"
   ]
  },
  {
   "cell_type": "markdown",
   "id": "0a806097-2a71-4366-8d13-afdeecfbacd5",
   "metadata": {},
   "source": [
    "##  位置とクォータニオン"
   ]
  },
  {
   "cell_type": "code",
   "execution_count": 17,
   "id": "4c405a25-6acb-45a2-b43a-612aded9b230",
   "metadata": {},
   "outputs": [
    {
     "data": {
      "text/plain": [
       "True"
      ]
     },
     "execution_count": 17,
     "metadata": {},
     "output_type": "execute_result"
    }
   ],
   "source": [
    "manipulator.set_pose_target( [ 0.2, -0.3, 0.4, 0.0, -1.0, 0.0, 0.0] )\n",
    "manipulator.go()"
   ]
  },
  {
   "cell_type": "markdown",
   "id": "ffba342a-2fb0-4c0e-bc64-198eaf275ba6",
   "metadata": {},
   "source": [
    "## 座標指定"
   ]
  },
  {
   "cell_type": "code",
   "execution_count": 18,
   "id": "06eb829e-d02f-4e2f-a0f5-5f3536b58c42",
   "metadata": {},
   "outputs": [
    {
     "name": "stdout",
     "output_type": "stream",
     "text": [
      "[ 0.42073549  0.42073549 -0.22984885  0.77015115]\n"
     ]
    },
    {
     "data": {
      "text/plain": [
       "True"
      ]
     },
     "execution_count": 18,
     "metadata": {},
     "output_type": "execute_result"
    }
   ],
   "source": [
    "pose = Pose()\n",
    "pose.position.x = 0.3\n",
    "pose.position.y = -0.3\n",
    "pose.position.z = 0.5\n",
    "\n",
    "quat = quaternion_from_euler(1, 1, 0)\n",
    "print(quat)\n",
    "pose.orientation.x = quat[0]\n",
    "pose.orientation.y = quat[1]\n",
    "pose.orientation.z = quat[2]\n",
    "pose.orientation.w = quat[3]\n",
    "\n",
    "manipulator.set_pose_target(pose)\n",
    "manipulator.go()"
   ]
  },
  {
   "cell_type": "markdown",
   "id": "3b239f73-45b8-4011-a4d8-31cfefae9050",
   "metadata": {},
   "source": [
    "## 間隔移動"
   ]
  },
  {
   "cell_type": "code",
   "execution_count": 42,
   "id": "eca7de85-ab44-44f6-92fa-f145f0fa22a5",
   "metadata": {},
   "outputs": [],
   "source": [
    "import copy\n",
    "\n",
    "# Go Home\n",
    "manipulator.set_joint_value_target(Home)\n",
    "manipulator.go()\n",
    "\n",
    "pose = manipulator.get_current_pose().pose\n",
    "for y in range(0, 4):\n",
    "    _pose = copy.deepcopy(pose)\n",
    "    _pose.position.y += 20 / 1000 * y # 20mm 移動\n",
    "    manipulator.set_joint_value_target(_pose)\n",
    "    manipulator.go()\n",
    "    for x in range(0, 4):\n",
    "        _pose.position.x += 65 / 1000 * x # 65mm 移動\n",
    "        manipulator.set_joint_value_target(_pose)\n",
    "        manipulator.go()"
   ]
  },
  {
   "cell_type": "code",
   "execution_count": null,
   "id": "2a150b48-51e9-4eab-8ae3-3e3745761fbe",
   "metadata": {},
   "outputs": [],
   "source": []
  }
 ],
 "metadata": {
  "kernelspec": {
   "display_name": "Python 3 (ipykernel)",
   "language": "python",
   "name": "python3"
  },
  "language_info": {
   "codemirror_mode": {
    "name": "ipython",
    "version": 3
   },
   "file_extension": ".py",
   "mimetype": "text/x-python",
   "name": "python",
   "nbconvert_exporter": "python",
   "pygments_lexer": "ipython3",
   "version": "3.8.10"
  }
 },
 "nbformat": 4,
 "nbformat_minor": 5
}
