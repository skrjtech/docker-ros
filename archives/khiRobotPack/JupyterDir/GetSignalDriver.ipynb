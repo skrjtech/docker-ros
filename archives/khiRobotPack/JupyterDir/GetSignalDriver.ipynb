{
 "cells": [
  {
   "cell_type": "code",
   "execution_count": null,
   "id": "93cc92bf-8c54-47b3-9271-8d4cdf5e2bc3",
   "metadata": {},
   "outputs": [],
   "source": [
    "import rospy\n",
    "from rs007n_commander.commander import crospyndler_client\n",
    "\n",
    "rospy.init_node('test_sample')"
   ]
  },
  {
   "cell_type": "markdown",
   "id": "f3c61652-b988-47d5-b4b8-935b28a784a9",
   "metadata": {},
   "source": [
    "## ロボットモーター起動"
   ]
  },
  {
   "cell_type": "code",
   "execution_count": null,
   "id": "4dc5dbb7-38ea-4a5d-9d26-92372b1028b2",
   "metadata": {},
   "outputs": [],
   "source": [
    "cmdhandler_client('driver', 'restart')"
   ]
  },
  {
   "cell_type": "markdown",
   "id": "03ef2a0c-ff54-4457-a36d-926283c08307",
   "metadata": {},
   "source": [
    "## ロボットハンドの開閉"
   ]
  },
  {
   "cell_type": "code",
   "execution_count": null,
   "id": "1ee1218c-759a-4f24-b046-8ee1bf60420e",
   "metadata": {},
   "outputs": [],
   "source": [
    "# ハンド開 状態をセット\n",
    "cmdhandler_client('driver', 'set_signal 17')\n",
    "rospy.sleep(1) # １秒待つ\n",
    "# ハンド開 状態を戻す\n",
    "cmdhandler_client('driver', 'set_signal -17')"
   ]
  },
  {
   "cell_type": "code",
   "execution_count": null,
   "id": "19aa301f-6774-4274-9d86-d48855d09307",
   "metadata": {},
   "outputs": [],
   "source": [
    "# ハンド閉 状態をセット\n",
    "cmdhandler_client('driver', 'set_signal 18')\n",
    "rospy.sleep(1) # １秒待つ\n",
    "# ハンド閉 状態を戻す\n",
    "cmdhandler_client('driver', 'set_signal -18')"
   ]
  },
  {
   "cell_type": "markdown",
   "id": "784a9c70-ca02-43b0-86ba-7ac902baed9d",
   "metadata": {},
   "source": [
    "## ワーク供給ユニット(ソレノイド)のオン・オフ"
   ]
  },
  {
   "cell_type": "code",
   "execution_count": null,
   "id": "a19e8750-f519-4f97-92da-a6be052f39cb",
   "metadata": {},
   "outputs": [],
   "source": [
    "# Solenoid On\n",
    "cmdhandler_client('driver', 'set_signal 12')\n",
    "rospy.sleep(2) # 2秒待つ\n",
    "# Solenoid Off\n",
    "cmdhandler_client('driver', 'set_signal -12')"
   ]
  },
  {
   "cell_type": "markdown",
   "id": "2ff72c41-c6bb-4f24-ab30-b937c6b42be2",
   "metadata": {},
   "source": [
    "## 在荷センサー "
   ]
  },
  {
   "cell_type": "code",
   "execution_count": null,
   "id": "a3a8981f-483c-4e03-8bcd-3d7c4ea6cad4",
   "metadata": {},
   "outputs": [],
   "source": [
    "cmdhandler_client('driver', 'get_signal 1005')"
   ]
  },
  {
   "cell_type": "markdown",
   "id": "14ce3753-2a9f-4394-ba45-92a011c75a97",
   "metadata": {},
   "source": [
    "## カラー台在荷センサー"
   ]
  },
  {
   "cell_type": "code",
   "execution_count": null,
   "id": "20ba47fb-ef82-4148-b48f-00d19b40fc62",
   "metadata": {},
   "outputs": [],
   "source": [
    "cmdhandler_client('driver', 'get_signal 1009')"
   ]
  },
  {
   "cell_type": "markdown",
   "id": "7a342442-e337-4501-b9fd-0f4a557192b0",
   "metadata": {},
   "source": [
    "## 色判別センサー"
   ]
  },
  {
   "cell_type": "code",
   "execution_count": null,
   "id": "59d06951-f30f-414d-a52d-00b459a4b33f",
   "metadata": {},
   "outputs": [],
   "source": [
    "cmdhandler_client('driver', 'get_signal 1010')"
   ]
  },
  {
   "cell_type": "code",
   "execution_count": null,
   "id": "0bbee8e9-d6b8-483d-8a17-19d7760fad31",
   "metadata": {},
   "outputs": [],
   "source": [
    "cmdhandler_client('driver', 'get_signal 1011')"
   ]
  },
  {
   "cell_type": "code",
   "execution_count": null,
   "id": "5d9612f5-23f0-426d-8af2-2ec5b2ec344e",
   "metadata": {},
   "outputs": [],
   "source": [
    "cmdhandler_client('driver', 'get_signal 1012')"
   ]
  },
  {
   "cell_type": "code",
   "execution_count": null,
   "id": "b27151ac-d908-4f8f-932f-8f8ebda132e4",
   "metadata": {},
   "outputs": [],
   "source": []
  }
 ],
 "metadata": {
  "kernelspec": {
   "display_name": "Python 3 (ipykernel)",
   "language": "python",
   "name": "python3"
  },
  "language_info": {
   "codemirror_mode": {
    "name": "ipython",
    "version": 3
   },
   "file_extension": ".py",
   "mimetype": "text/x-python",
   "name": "python",
   "nbconvert_exporter": "python",
   "pygments_lexer": "ipython3",
   "version": "3.8.10"
  }
 },
 "nbformat": 4,
 "nbformat_minor": 5
}
