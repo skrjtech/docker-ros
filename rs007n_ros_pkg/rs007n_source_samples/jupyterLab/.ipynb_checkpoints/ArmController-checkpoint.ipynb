{
 "cells": [
  {
   "cell_type": "markdown",
   "id": "efa00f05-8d63-4f6f-9820-5f0a0e381843",
   "metadata": {},
   "source": [
    "# 必要なライブラリをインポート"
   ]
  },
  {
   "cell_type": "code",
   "execution_count": 1,
   "id": "fea7382a-12e0-43ad-a5b0-cd9dbca94ca5",
   "metadata": {
    "tags": []
   },
   "outputs": [],
   "source": [
    "import copy\n",
    "import rospy\n",
    "import moveit_commander\n",
    "from geometry_msgs.msg import Pose\n",
    "from tf.transformations import euler_from_quaternion, quaternion_from_euler"
   ]
  },
  {
   "cell_type": "markdown",
   "id": "12b18836-30dd-42d1-a9b7-b57bff9eb327",
   "metadata": {},
   "source": [
    "### ノードの初期化"
   ]
  },
  {
   "cell_type": "code",
   "execution_count": 2,
   "id": "3a367a44-7a45-43d4-ba3d-548d3a5642d8",
   "metadata": {
    "tags": []
   },
   "outputs": [],
   "source": [
    "rospy.init_node(\"robot_command_init\")"
   ]
  },
  {
   "cell_type": "markdown",
   "id": "fa9b00c9-8dfa-4866-be7e-c114840a3528",
   "metadata": {},
   "source": [
    "## ロボット情報の取得"
   ]
  },
  {
   "cell_type": "code",
   "execution_count": 3,
   "id": "49161025-f274-41f6-bf91-460b822c08b9",
   "metadata": {
    "tags": []
   },
   "outputs": [
    {
     "name": "stderr",
     "output_type": "stream",
     "text": [
      "\u001b[33m[ WARN] [1680235542.146177244]: Kinematics solver doesn't support #attempts anymore, but only a timeout.\n",
      "Please remove the parameter '/robot_description_kinematics/manipulator/kinematics_solver_attempts' from your configuration.\u001b[0m\n"
     ]
    },
    {
     "data": {
      "text/plain": [
       "['manipulator', 'tool']"
      ]
     },
     "execution_count": 3,
     "metadata": {},
     "output_type": "execute_result"
    }
   ],
   "source": [
    "robot = moveit_commander.RobotCommander()\n",
    "robot.get_group_names()"
   ]
  },
  {
   "cell_type": "markdown",
   "id": "3d358109-ed5c-4d9e-88f5-09d766aa55e1",
   "metadata": {},
   "source": [
    "## 制御したいリンクの設定"
   ]
  },
  {
   "cell_type": "code",
   "execution_count": 4,
   "id": "2fcaf589-0db1-43de-89a6-e16e139dca0c",
   "metadata": {
    "tags": []
   },
   "outputs": [],
   "source": [
    "manipulator = moveit_commander.MoveGroupCommander('manipulator')"
   ]
  },
  {
   "cell_type": "markdown",
   "id": "adb17be6-3cff-429e-8c79-9118e66d9809",
   "metadata": {},
   "source": [
    "## 移動速度指定"
   ]
  },
  {
   "cell_type": "code",
   "execution_count": null,
   "id": "4b58df08-4f83-4b48-ab47-86484213ecc5",
   "metadata": {},
   "outputs": [],
   "source": [
    "manipulator.set_max_velocity_scaling_factor(0.25) # 1. で最大速度"
   ]
  },
  {
   "cell_type": "markdown",
   "id": "bf78884f-d8bf-48e6-ad1c-a61e0d51062a",
   "metadata": {},
   "source": [
    "## 現在の関節情報の取得"
   ]
  },
  {
   "cell_type": "code",
   "execution_count": 5,
   "id": "f13fbb68-4658-416a-9a91-ad816bcf7344",
   "metadata": {
    "tags": []
   },
   "outputs": [
    {
     "data": {
      "text/plain": [
       "[1.1475265182525618e-12,\n",
       " 8.819611707622244e-13,\n",
       " 1.0365042157900461e-12,\n",
       " -7.114309141798003e-13,\n",
       " -6.235012506294879e-13,\n",
       " -4.289901767151605e-13]"
      ]
     },
     "execution_count": 5,
     "metadata": {},
     "output_type": "execute_result"
    }
   ],
   "source": [
    "manipulator.get_current_joint_values()"
   ]
  },
  {
   "cell_type": "markdown",
   "id": "31b25c3b-f59d-4add-a254-baa08b024cd7",
   "metadata": {},
   "source": [
    "## 現在のXYZ座標と姿勢の取得"
   ]
  },
  {
   "cell_type": "code",
   "execution_count": 6,
   "id": "505058a4-9cfd-403a-a0d4-4aa9339cb00d",
   "metadata": {
    "tags": []
   },
   "outputs": [
    {
     "data": {
      "text/plain": [
       "header: \n",
       "  seq: 0\n",
       "  stamp: \n",
       "    secs: 93\n",
       "    nsecs: 848000000\n",
       "  frame_id: \"world\"\n",
       "pose: \n",
       "  position: \n",
       "    x: 1.1668444025746097e-16\n",
       "    y: 2.9172131377208624e-13\n",
       "    z: 1.168\n",
       "  orientation: \n",
       "    x: -2.3447910280083306e-13\n",
       "    y: 2.226220694797061e-25\n",
       "    z: -1.1439738045737613e-12\n",
       "    w: 1.0"
      ]
     },
     "execution_count": 6,
     "metadata": {},
     "output_type": "execute_result"
    }
   ],
   "source": [
    "manipulator.get_current_pose()"
   ]
  },
  {
   "cell_type": "markdown",
   "id": "254df0ca-8a24-4322-a209-de26c273d57c",
   "metadata": {},
   "source": [
    "### 原点復帰"
   ]
  },
  {
   "cell_type": "code",
   "execution_count": 19,
   "id": "fa020077-d1cc-4e82-b1e8-3f02791c2b89",
   "metadata": {
    "tags": []
   },
   "outputs": [
    {
     "data": {
      "text/plain": [
       "True"
      ]
     },
     "execution_count": 19,
     "metadata": {},
     "output_type": "execute_result"
    }
   ],
   "source": [
    "Home = [0.0, 7.669904334761668e-06, -1.5707907676696777, 0.0, -1.5707603693008423, -6.447359919548035e-05]\n",
    "manipulator.set_joint_value_target(Home)\n",
    "manipulator.go()"
   ]
  },
  {
   "cell_type": "markdown",
   "id": "928c8014-3d68-49b8-b522-4abf420fcb65",
   "metadata": {},
   "source": [
    "### 現在の状態からX方向に移動"
   ]
  },
  {
   "cell_type": "code",
   "execution_count": 15,
   "id": "46634b4d-e298-4286-81d6-212bbc7c7057",
   "metadata": {
    "tags": []
   },
   "outputs": [],
   "source": [
    "getPose_ = manipulator.get_current_pose().pose"
   ]
  },
  {
   "cell_type": "code",
   "execution_count": 16,
   "id": "a58aa8fa-72fb-4a9f-a39c-0787d2c3071f",
   "metadata": {
    "tags": []
   },
   "outputs": [
    {
     "data": {
      "text/plain": [
       "True"
      ]
     },
     "execution_count": 16,
     "metadata": {},
     "output_type": "execute_result"
    }
   ],
   "source": [
    "getPose = copy.deepcopy(getPose_)\n",
    "getPose.position.x += (100 / 1000) # X方向に100mm 移動\n",
    "manipulator.set_pose_target(getPose)\n",
    "manipulator.go()"
   ]
  },
  {
   "cell_type": "markdown",
   "id": "9b3d78bb-40ba-4735-9e18-c2e3fe9d39ac",
   "metadata": {},
   "source": [
    "### 現在の状態からY方向に移動"
   ]
  },
  {
   "cell_type": "code",
   "execution_count": 17,
   "id": "9181f902-f3c8-45c4-9276-a9db5feaf676",
   "metadata": {
    "tags": []
   },
   "outputs": [
    {
     "data": {
      "text/plain": [
       "True"
      ]
     },
     "execution_count": 17,
     "metadata": {},
     "output_type": "execute_result"
    }
   ],
   "source": [
    "getPose = copy.deepcopy(getPose_)\n",
    "getPose.position.y += (100 / 1000) # Y方向に100mm 移動\n",
    "manipulator.set_pose_target(getPose)\n",
    "manipulator.go()"
   ]
  },
  {
   "cell_type": "markdown",
   "id": "000070ba-2bb8-4b92-8fa9-04d76c3e949c",
   "metadata": {},
   "source": [
    "### 現在の状態からZ方向に移動"
   ]
  },
  {
   "cell_type": "code",
   "execution_count": 18,
   "id": "84003ced-06a1-4e89-a38e-442cf8d86a3f",
   "metadata": {
    "tags": []
   },
   "outputs": [
    {
     "data": {
      "text/plain": [
       "True"
      ]
     },
     "execution_count": 18,
     "metadata": {},
     "output_type": "execute_result"
    }
   ],
   "source": [
    "getPose = copy.deepcopy(getPose_)\n",
    "getPose.position.z += (100 / 1000) # Z方向に100mm 移動\n",
    "manipulator.set_pose_target(getPose)\n",
    "manipulator.go()"
   ]
  },
  {
   "cell_type": "markdown",
   "id": "5abbf8da-5cc2-4077-8906-f397da5efc28",
   "metadata": {},
   "source": [
    "### 教師位置取得: ワーク位置"
   ]
  },
  {
   "cell_type": "code",
   "execution_count": 20,
   "id": "15d55268-2d35-405e-b840-c979b88a6538",
   "metadata": {
    "tags": []
   },
   "outputs": [
    {
     "data": {
      "text/plain": [
       "[7.381530172612116e-05,\n",
       " -1.0380151445943397e-05,\n",
       " -1.570714627587738,\n",
       " 5.752984468365696e-06,\n",
       " -1.570699646658447,\n",
       " -0.00011432361921137613]"
      ]
     },
     "execution_count": 20,
     "metadata": {},
     "output_type": "execute_result"
    },
    {
     "name": "stdout",
     "output_type": "stream",
     "text": [
      "shutdown request: [/robot_command_init] Reason: new node registered with same name\n"
     ]
    }
   ],
   "source": [
    "manipulator.get_current_joint_values()"
   ]
  },
  {
   "cell_type": "markdown",
   "id": "a6428c24-b5fe-4487-8266-e11c23d4c694",
   "metadata": {},
   "source": [
    "### 教師位置取得: 収納レーン位置"
   ]
  },
  {
   "cell_type": "code",
   "execution_count": null,
   "id": "c13f2a79-ae09-47ea-b735-e267b189aed7",
   "metadata": {},
   "outputs": [],
   "source": [
    "manipulator.get_current_joint_values()"
   ]
  }
 ],
 "metadata": {
  "kernelspec": {
   "display_name": "Python 3 (ipykernel)",
   "language": "python",
   "name": "python3"
  },
  "language_info": {
   "codemirror_mode": {
    "name": "ipython",
    "version": 3
   },
   "file_extension": ".py",
   "mimetype": "text/x-python",
   "name": "python",
   "nbconvert_exporter": "python",
   "pygments_lexer": "ipython3",
   "version": "3.8.10"
  }
 },
 "nbformat": 4,
 "nbformat_minor": 5
}
