{
 "cells": [
  {
   "cell_type": "markdown",
   "id": "c1564afe-3bc9-4189-bdee-efb85b1ddc6e",
   "metadata": {},
   "source": [
    "# ・各センサーの状態取得"
   ]
  },
  {
   "cell_type": "code",
   "execution_count": 2,
   "id": "bc6e3408-d8a6-4d7b-8e98-4e22145a7a2b",
   "metadata": {
    "tags": []
   },
   "outputs": [],
   "source": [
    "import rospy\n",
    "from khi_robot_msgs.srv import KhiRobotCmd\n",
    "rospy.init_node(\"driver_status_call_node\")"
   ]
  },
  {
   "cell_type": "markdown",
   "id": "47750b94-77ad-4faa-97ca-47820de0c286",
   "metadata": {},
   "source": [
    "### 1) サービスファイルの呼び出し定義\n",
    "サービスファイルの仕様<br>\n",
    "string type<br>\n",
    "string cmd<br>\n",
    "---<br>\n",
    "int32 driver_ret<br>\n",
    "int32 as_ret<br>\n",
    "string cmd_ret</p>"
   ]
  },
  {
   "cell_type": "code",
   "execution_count": 3,
   "id": "ca91c899-14d2-47fa-9c8f-8e232f4af547",
   "metadata": {
    "tags": []
   },
   "outputs": [],
   "source": [
    "service = '/khi_robot_command_service'"
   ]
  },
  {
   "cell_type": "markdown",
   "id": "3b634f65-7a7c-4661-9941-6339497c8b87",
   "metadata": {},
   "source": [
    "### 2) Fシリーズコントローラ(30F60F-AC01)にコマンド送信を行う関数"
   ]
  },
  {
   "cell_type": "code",
   "execution_count": 4,
   "id": "68c83f2a-cfa7-457c-be19-61af4f2c6986",
   "metadata": {
    "tags": []
   },
   "outputs": [],
   "source": [
    "def cmdhandler_client(type_arg , cmd_arg) -> dict:\n",
    "    \"\"\"\n",
    "        cmdhandler_client\n",
    "            - type_arg: str = 'driver' | 'as'\n",
    "            - cmd_arg: str = 'command'\n",
    "    \"\"\"\n",
    "    rospy.wait_for_service(service)\n",
    "    try:\n",
    "        khi_robot_command_service = rospy.ServiceProxy(service, KhiRobotCmd)\n",
    "        resp1 = khi_robot_command_service(type_arg, cmd_arg)\n",
    "        return {\"driver_ret\": resp1.driver_ret, \"as_ret\": resp1.as_ret, \"cmd_ret\": resp1.cmd_ret}\n",
    "    except rospy.ServiceException as e:\n",
    "        rospy.loginfo('Service call failed: %s', e)"
   ]
  },
  {
   "cell_type": "markdown",
   "id": "92d0ceba-ec50-477f-bb6d-2135880c463e",
   "metadata": {},
   "source": [
    "### 3) Fシリーズコントローラ(30F60F-AC01)の状態の取得　!以降からFシリーズコントローラ(30F60F-AC01)をドライバと呼ぶ!"
   ]
  },
  {
   "cell_type": "code",
   "execution_count": 10,
   "id": "9bd935e0-79dc-4bfa-a350-a464aab055b8",
   "metadata": {
    "tags": []
   },
   "outputs": [
    {
     "name": "stdout",
     "output_type": "stream",
     "text": [
      "{'driver_ret': 0, 'as_ret': 0, 'cmd_ret': 'ACTIVE'}\n"
     ]
    }
   ],
   "source": [
    "ret = cmdhandler_client(\"driver\", \"get_status\")\n",
    "print(ret)"
   ]
  },
  {
   "cell_type": "markdown",
   "id": "60e62e50-7b48-4819-941f-2273a0bf0d37",
   "metadata": {
    "tags": []
   },
   "source": [
    "### 4) ドライバのリセット"
   ]
  },
  {
   "cell_type": "code",
   "execution_count": 12,
   "id": "38b02f92-e5d8-49ed-9212-c6475b278959",
   "metadata": {
    "tags": []
   },
   "outputs": [
    {
     "name": "stdout",
     "output_type": "stream",
     "text": [
      "{'driver_ret': 0, 'as_ret': 0, 'cmd_ret': 'NOT INACTIVE/HOLDED/ERROR STATE'}\n"
     ]
    }
   ],
   "source": [
    "ret = cmdhandler_client(\"driver\", \"restart\")\n",
    "print(ret)"
   ]
  },
  {
   "cell_type": "markdown",
   "id": "1e4f7abc-5704-4f9b-858e-aa77a8b21f0a",
   "metadata": {},
   "source": [
    "### 5) ドライバの状態確認"
   ]
  },
  {
   "cell_type": "code",
   "execution_count": 13,
   "id": "b20b4b20-b2ed-4bb0-a690-f286943e5313",
   "metadata": {
    "tags": []
   },
   "outputs": [
    {
     "name": "stdout",
     "output_type": "stream",
     "text": [
      "{'driver_ret': 0, 'as_ret': 0, 'cmd_ret': 'ACTIVE'}\n"
     ]
    }
   ],
   "source": [
    "ret = cmdhandler_client(\"driver\", \"get_status\")\n",
    "print(ret)"
   ]
  },
  {
   "cell_type": "markdown",
   "id": "da109906-3825-434e-a756-2c68935995a9",
   "metadata": {},
   "source": [
    "### 6) 収納レーンのソレノイド装置のオンオフ"
   ]
  },
  {
   "cell_type": "code",
   "execution_count": 14,
   "id": "a86c5c8a-4e15-4715-97ff-c7493c8e8850",
   "metadata": {
    "tags": []
   },
   "outputs": [
    {
     "data": {
      "text/plain": [
       "{'driver_ret': 0, 'as_ret': 0, 'cmd_ret': '0'}"
      ]
     },
     "execution_count": 14,
     "metadata": {},
     "output_type": "execute_result"
    }
   ],
   "source": [
    "# ソレノイドの状態を示すシグナル値を指定して状態を取得\n",
    "result = cmdhandler_client('driver', 'get_signal 12')\n",
    "print(result) # cmd_ret: 0 でソレノイドが作動していない状態"
   ]
  },
  {
   "cell_type": "code",
   "execution_count": 18,
   "id": "7f41748f-ab81-47d9-81b7-d202eb39158d",
   "metadata": {
    "tags": []
   },
   "outputs": [
    {
     "data": {
      "text/plain": [
       "{'driver_ret': 0, 'as_ret': 0, 'cmd_ret': ''}"
      ]
     },
     "execution_count": 18,
     "metadata": {},
     "output_type": "execute_result"
    }
   ],
   "source": [
    "# ソレノイドを起動 \n",
    "result = cmdhandler_client('driver', 'set_signal 12') #　set_signalで起動\n",
    "print(result)"
   ]
  },
  {
   "cell_type": "code",
   "execution_count": 19,
   "id": "8c7a4250-5d3f-4366-bf65-d75860983fdd",
   "metadata": {
    "tags": []
   },
   "outputs": [
    {
     "data": {
      "text/plain": [
       "{'driver_ret': 0, 'as_ret': 0, 'cmd_ret': ''}"
      ]
     },
     "execution_count": 19,
     "metadata": {},
     "output_type": "execute_result"
    }
   ],
   "source": [
    "# ソレノイドの起動停止 \n",
    "result = cmdhandler_client('driver', 'set_signal -12') #　マイナス値の指定で起動停止\n",
    "print(result)"
   ]
  },
  {
   "cell_type": "markdown",
   "id": "fe554317-37bf-4db8-bf35-fcd57261f1ff",
   "metadata": {
    "tags": []
   },
   "source": [
    "### 7) 収納レーン 在荷センサー状態取得"
   ]
  },
  {
   "cell_type": "code",
   "execution_count": 25,
   "id": "27eac4db-d06c-4828-8529-1dc1af644fa5",
   "metadata": {
    "tags": []
   },
   "outputs": [
    {
     "data": {
      "text/plain": [
       "{'driver_ret': 0, 'as_ret': 0, 'cmd_ret': '0'}"
      ]
     },
     "execution_count": 25,
     "metadata": {},
     "output_type": "execute_result"
    }
   ],
   "source": [
    "# 空の状態\n",
    "result = cmdhandler_client('driver', 'get_signal 1005')\n",
    "print(result)"
   ]
  },
  {
   "cell_type": "code",
   "execution_count": 26,
   "id": "9652ec1e-ad03-4e16-94af-9d086fab87e6",
   "metadata": {
    "tags": []
   },
   "outputs": [
    {
     "data": {
      "text/plain": [
       "{'driver_ret': 0, 'as_ret': 0, 'cmd_ret': '-1'}"
      ]
     },
     "execution_count": 26,
     "metadata": {},
     "output_type": "execute_result"
    }
   ],
   "source": [
    "# ワークが存在したときの状態\n",
    "result = cmdhandler_client('driver', 'get_signal 1005')\n",
    "print(result)"
   ]
  },
  {
   "cell_type": "markdown",
   "id": "806bf27e-660b-4e01-9232-c949e6734e9a",
   "metadata": {},
   "source": [
    "### 8) カラーセンサー台の在荷センサー・カラーセンサーの状態取得"
   ]
  },
  {
   "cell_type": "code",
   "execution_count": 28,
   "id": "a1514c1d-caa9-4514-a1c3-762b65d0f52a",
   "metadata": {
    "tags": []
   },
   "outputs": [
    {
     "data": {
      "text/plain": [
       "{'driver_ret': 0, 'as_ret': 0, 'cmd_ret': '0'}"
      ]
     },
     "execution_count": 28,
     "metadata": {},
     "output_type": "execute_result"
    }
   ],
   "source": [
    "# カラーセンサ台に何も置いてない状態\n",
    "result = cmdhandler_client('driver', 'get_signal 1009')\n",
    "print(result)"
   ]
  },
  {
   "cell_type": "code",
   "execution_count": 29,
   "id": "51bb99b8-3f04-415e-9af8-0d8014d7e209",
   "metadata": {
    "tags": []
   },
   "outputs": [
    {
     "data": {
      "text/plain": [
       "{'driver_ret': 0, 'as_ret': 0, 'cmd_ret': '-1'}"
      ]
     },
     "execution_count": 29,
     "metadata": {},
     "output_type": "execute_result"
    }
   ],
   "source": [
    "# 置いている状態\n",
    "result = cmdhandler_client('driver', 'get_signal 1009')\n",
    "print(result)"
   ]
  },
  {
   "cell_type": "markdown",
   "id": "a1d54a36-ea6a-4972-b63d-e3807ebfd822",
   "metadata": {},
   "source": [
    "### 色判別"
   ]
  },
  {
   "cell_type": "code",
   "execution_count": 33,
   "id": "1e94fb12-7ccc-4a2e-a9dd-3d2ef1a1dbe3",
   "metadata": {
    "tags": []
   },
   "outputs": [
    {
     "name": "stdout",
     "output_type": "stream",
     "text": [
      "0 -1 -1 -1\n"
     ]
    }
   ],
   "source": [
    "# ワークの色が青のとき\n",
    "result = ~ int(cmdhandler_client('driver', 'get_signal 1009')['cmd_ret'])\n",
    "result1 = ~ int(cmdhandler_client('driver', 'get_signal 1010')['cmd_ret'])\n",
    "result2 = ~ int(cmdhandler_client('driver', 'get_signal 1011')['cmd_ret'])\n",
    "result3 = ~ int(cmdhandler_client('driver', 'get_signal 1012')['cmd_ret']) \n",
    "print(result, result1, result2, result3)"
   ]
  },
  {
   "cell_type": "code",
   "execution_count": 34,
   "id": "b4b13448-fe3b-40c2-8727-6a8cd3e05bb6",
   "metadata": {
    "tags": []
   },
   "outputs": [
    {
     "name": "stdout",
     "output_type": "stream",
     "text": [
      "0 0 -1 -1\n"
     ]
    }
   ],
   "source": [
    "# ワークの色が赤のとき\n",
    "result = ~ int(cmdhandler_client('driver', 'get_signal 1009')['cmd_ret'])\n",
    "result1 = ~ int(cmdhandler_client('driver', 'get_signal 1010')['cmd_ret'])\n",
    "result2 = ~ int(cmdhandler_client('driver', 'get_signal 1011')['cmd_ret'])\n",
    "result3 = ~ int(cmdhandler_client('driver', 'get_signal 1012')['cmd_ret']) \n",
    "print(result, result1, result2, result3)"
   ]
  },
  {
   "cell_type": "code",
   "execution_count": 35,
   "id": "cb826ad2-2fc5-43f5-af47-f1a6a54915cf",
   "metadata": {
    "tags": []
   },
   "outputs": [
    {
     "name": "stdout",
     "output_type": "stream",
     "text": [
      "0 0 0 -1\n"
     ]
    }
   ],
   "source": [
    "# ワークの色が黃のとき\n",
    "result = ~ int(cmdhandler_client('driver', 'get_signal 1009')['cmd_ret'])\n",
    "result1 = ~ int(cmdhandler_client('driver', 'get_signal 1010')['cmd_ret'])\n",
    "result2 = ~ int(cmdhandler_client('driver', 'get_signal 1011')['cmd_ret'])\n",
    "result3 = ~ int(cmdhandler_client('driver', 'get_signal 1012')['cmd_ret']) \n",
    "print(result, result1, result2, result3)"
   ]
  },
  {
   "cell_type": "code",
   "execution_count": 36,
   "id": "d677adfc-9112-489f-8c72-da07050efa09",
   "metadata": {
    "tags": []
   },
   "outputs": [
    {
     "name": "stdout",
     "output_type": "stream",
     "text": [
      "0 0 0 0\n"
     ]
    }
   ],
   "source": [
    "# ワークの色がアルミのとき\n",
    "result = ~ int(cmdhandler_client('driver', 'get_signal 1009')['cmd_ret'])\n",
    "result1 = ~ int(cmdhandler_client('driver', 'get_signal 1010')['cmd_ret'])\n",
    "result2 = ~ int(cmdhandler_client('driver', 'get_signal 1011')['cmd_ret'])\n",
    "result3 = ~ int(cmdhandler_client('driver', 'get_signal 1012')['cmd_ret']) \n",
    "print(result, result1, result2, result3)"
   ]
  },
  {
   "cell_type": "markdown",
   "id": "e1ec15fc-d290-4920-9139-bd7929408e14",
   "metadata": {},
   "source": [
    "### 9) ロボットハンドの開閉"
   ]
  },
  {
   "cell_type": "code",
   "execution_count": 78,
   "id": "b7266455-e7b1-49ba-be06-1b5a19868f01",
   "metadata": {
    "tags": []
   },
   "outputs": [
    {
     "name": "stdout",
     "output_type": "stream",
     "text": [
      "{'driver_ret': 0, 'as_ret': 0, 'cmd_ret': '0'}\n"
     ]
    }
   ],
   "source": [
    "# 状態のリセット\n",
    "cmdhandler_client('driver', 'set_signal -17')\n",
    "cmdhandler_client('driver', 'set_signal -18')\n",
    "result = cmdhandler_client('driver', 'get_signal 1018')\n",
    "print(result)"
   ]
  },
  {
   "cell_type": "code",
   "execution_count": 86,
   "id": "5080bd99-b922-4363-bd56-774d222a646b",
   "metadata": {
    "tags": []
   },
   "outputs": [
    {
     "name": "stdout",
     "output_type": "stream",
     "text": [
      "{'driver_ret': 0, 'as_ret': 0, 'cmd_ret': ''} {'driver_ret': 0, 'as_ret': 0, 'cmd_ret': ''} {'driver_ret': 0, 'as_ret': 0, 'cmd_ret': '0'}\n"
     ]
    }
   ],
   "source": [
    "# アームを開く\n",
    "result_open_1 = cmdhandler_client('driver', 'set_signal 17')\n",
    "result_open_2 = cmdhandler_client('driver', 'set_signal -17')\n",
    "result = cmdhandler_client('driver', 'get_signal 1018')\n",
    "print(result_open_1, result_open_2, result)"
   ]
  },
  {
   "cell_type": "code",
   "execution_count": 87,
   "id": "7dcc6415-29cb-4e0a-9083-77cc8ce2f577",
   "metadata": {
    "tags": []
   },
   "outputs": [
    {
     "name": "stdout",
     "output_type": "stream",
     "text": [
      "{'driver_ret': 0, 'as_ret': 0, 'cmd_ret': ''} {'driver_ret': 0, 'as_ret': 0, 'cmd_ret': ''} {'driver_ret': 0, 'as_ret': 0, 'cmd_ret': '0'}\n"
     ]
    }
   ],
   "source": [
    "# アームを閉じる\n",
    "result_open_1 = cmdhandler_client('driver', 'set_signal 18')\n",
    "result_open_2 = cmdhandler_client('driver', 'set_signal -18')\n",
    "result = cmdhandler_client('driver', 'get_signal 1018')\n",
    "print(result_open_1, result_open_2, result)"
   ]
  },
  {
   "cell_type": "markdown",
   "id": "b12fa29d-2d4d-4cbe-98b2-38985b2f7abe",
   "metadata": {},
   "source": [
    "# RS007N_COMMANDER "
   ]
  },
  {
   "cell_type": "code",
   "execution_count": 1,
   "id": "790c0d46-84ec-4181-858a-422be7a97cf2",
   "metadata": {
    "tags": []
   },
   "outputs": [],
   "source": [
    "import rs007n_commander"
   ]
  },
  {
   "cell_type": "code",
   "execution_count": 2,
   "id": "75e1169a-e011-466e-a3e0-a98afde59782",
   "metadata": {
    "tags": []
   },
   "outputs": [],
   "source": [
    "driver = rs007n_commander.DriverCommander()"
   ]
  },
  {
   "cell_type": "code",
   "execution_count": 3,
   "id": "35d8c20a-12d0-4d17-be03-99073f016986",
   "metadata": {
    "tags": []
   },
   "outputs": [],
   "source": [
    "ColorType = rs007n_commander.ColorSensorType"
   ]
  },
  {
   "cell_type": "code",
   "execution_count": null,
   "id": "7cd86358-8413-4199-ab82-ec3dc9462369",
   "metadata": {},
   "outputs": [],
   "source": [
    "class DriverCommander(object):\n",
    "    def DriverRestart(self) -> bool: return DriverRestart() # コントローラの状態確認関数\n",
    "    def SolenoidOn(self, *a, **kw) -> bool: return SolenoidOnOff(*a, **kw) # ソレノイドのON/OFF関数 引数にON/OFFを行う秒数を指定デフォルとで２秒\n",
    "    def HandOpen(self) -> bool: return HandOpen() # ロボットハンド関数 開\n",
    "    def HandCloses(self) -> bool: return HandClose() # ロボットハンド関数 閉\n",
    "    def TPSupply(self) -> bool: return TPSupply() # 収納レーンの在荷センサーの状態確認関数\n",
    "    def EColorSensor(self) -> bool: return EColorSensor() # カラーセンサー台の在荷センサーの状態確認関数\n",
    "    def ColorSensor(self) -> int: return ColorSensor # カラーセンサーの判別関数"
   ]
  },
  {
   "cell_type": "code",
   "execution_count": null,
   "id": "beb3bcd7-f7ea-4bd2-ad55-9a3a37e81862",
   "metadata": {},
   "outputs": [],
   "source": [
    "ColorTypeResult = driver.ColorSensor()\n",
    "\n",
    "if ColorTypeResult == ColorType.RED:\n",
    "    print(\"RED\")\n",
    "if ColorTypeResult == ColorType.BLUE:\n",
    "    print(\"BLUE\")\n",
    "if ColorTypeResult == ColorType.YELLOW:\n",
    "    print(\"YELLOW\")\n",
    "if ColorTypeResult == ColorType.ALUMINUM:\n",
    "    print(\"ALUMINUM\")\n",
    "if ColorTypeResult == ColorType.UNKNOWN:\n",
    "    print(\"UNKNOWN\")"
   ]
  }
 ],
 "metadata": {
  "kernelspec": {
   "display_name": "Python 3 (ipykernel)",
   "language": "python",
   "name": "python3"
  },
  "language_info": {
   "codemirror_mode": {
    "name": "ipython",
    "version": 3
   },
   "file_extension": ".py",
   "mimetype": "text/x-python",
   "name": "python",
   "nbconvert_exporter": "python",
   "pygments_lexer": "ipython3",
   "version": "3.8.10"
  }
 },
 "nbformat": 4,
 "nbformat_minor": 5
}
